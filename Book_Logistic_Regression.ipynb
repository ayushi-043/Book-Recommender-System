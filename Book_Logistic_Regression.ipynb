{
 "cells": [
  {
   "cell_type": "code",
   "execution_count": 4,
   "metadata": {},
   "outputs": [
    {
     "name": "stdout",
     "output_type": "stream",
     "text": [
      "Feature Names: ['Age', 'Book-Rating']\n",
      "Selected Features: ['Age', 'Book-Rating']\n",
      "Model Accuracy after Feature Selection: 0.9976768780781365\n"
     ]
    }
   ],
   "source": [
    "import numpy as np\n",
    "import pandas as pd\n",
    "from sklearn.model_selection import train_test_split\n",
    "from sklearn.feature_selection import RFE\n",
    "from sklearn.linear_model import LogisticRegression\n",
    "from sklearn.metrics import accuracy_score\n",
    "from sklearn.preprocessing import StandardScaler\n",
    "from sklearn.pipeline import make_pipeline\n",
    "\n",
    "# Load datasets\n",
    "books_file_path = \"C:\\\\Users\\\\hp\\\\Desktop\\\\AI Project\\\\Final model\\\\data\\\\BX-Books.csv\"\n",
    "users_file_path = \"C:\\\\Users\\\\hp\\\\Desktop\\\\AI Project\\\\Final model\\\\data\\\\BX-Users.csv\"\n",
    "ratings_file_path = \"C:\\\\Users\\\\hp\\\\Desktop\\\\AI Project\\\\Final model\\\\data\\\\BX-Book-Ratings.csv\"  # Update with your file path\n",
    "\n",
    "# Load data\n",
    "books = pd.read_csv(books_file_path, encoding='latin1', sep=';', on_bad_lines='skip', low_memory=False)\n",
    "users = pd.read_csv(users_file_path, encoding='latin1', sep=';', on_bad_lines='skip', low_memory=False)\n",
    "ratings = pd.read_csv(ratings_file_path, encoding='latin1', sep=';', on_bad_lines='skip', low_memory=False)\n",
    "\n",
    "# Merge datasets\n",
    "merged_data = ratings.merge(users, on='User-ID').merge(books, on='ISBN')\n",
    "\n",
    "# Drop rows with missing values\n",
    "merged_data = merged_data.dropna()\n",
    "\n",
    "# Select features and target\n",
    "feature_columns = ['Age', 'Book-Rating']  # Add more numeric columns if needed\n",
    "X = merged_data[feature_columns]\n",
    "y = merged_data['Book-Rating']  # Example target: predicting book ratings\n",
    "\n",
    "# Split the data\n",
    "X_train, X_test, y_train, y_test = train_test_split(X, y, test_size=0.3, random_state=42)\n",
    "\n",
    "# Create a pipeline with scaling and logistic regression\n",
    "model = make_pipeline(StandardScaler(), LogisticRegression(max_iter=10000, solver='saga'))\n",
    "\n",
    "# Perform feature selection\n",
    "n_features_to_select = min(X_train.shape[1], 10)  # Choose up to 10 features or the number of available features\n",
    "rfe = RFE(estimator=model, n_features_to_select=n_features_to_select)\n",
    "\n",
    "# Fit RFE to the training data\n",
    "rfe.fit(X_train, y_train)\n",
    "\n",
    "# Transform the data\n",
    "X_train_selected = rfe.transform(X_train)\n",
    "X_test_selected = rfe.transform(X_test)\n",
    "\n",
    "# Train and evaluate the model\n",
    "model.fit(X_train_selected, y_train)\n",
    "y_pred = model.predict(X_test_selected)\n",
    "accuracy = accuracy_score(y_test, y_pred)\n",
    "\n",
    "# Print results\n",
    "print(\"Feature Names:\", X.columns.tolist())\n",
    "print(\"Selected Features:\", X.columns[rfe.support_].tolist())\n",
    "print(\"Model Accuracy after Feature Selection:\", accuracy)\n"
   ]
  }
 ],
 "metadata": {
  "kernelspec": {
   "display_name": "Python 3",
   "language": "python",
   "name": "python3"
  },
  "language_info": {
   "codemirror_mode": {
    "name": "ipython",
    "version": 3
   },
   "file_extension": ".py",
   "mimetype": "text/x-python",
   "name": "python",
   "nbconvert_exporter": "python",
   "pygments_lexer": "ipython3",
   "version": "3.12.5"
  }
 },
 "nbformat": 4,
 "nbformat_minor": 2
}
